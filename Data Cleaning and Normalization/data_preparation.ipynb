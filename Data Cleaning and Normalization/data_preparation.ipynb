{
 "cells": [
  {
   "cell_type": "code",
   "execution_count": 1,
   "metadata": {},
   "outputs": [],
   "source": [
    "import numpy as np\n",
    "import pandas as pd\n",
    "import re\n",
    "\n",
    "import transliterate as tr"
   ]
  },
  {
   "cell_type": "code",
   "execution_count": 2,
   "metadata": {},
   "outputs": [],
   "source": [
    "df = pd.read_csv('cars.csv', index_col='Unnamed: 0')"
   ]
  },
  {
   "cell_type": "markdown",
   "metadata": {},
   "source": [
    "# Data Cleaning"
   ]
  },
  {
   "cell_type": "code",
   "execution_count": 3,
   "metadata": {},
   "outputs": [
    {
     "name": "stdout",
     "output_type": "stream",
     "text": [
      "<class 'pandas.core.frame.DataFrame'>\n",
      "Int64Index: 10000 entries, 0 to 9999\n",
      "Data columns (total 4 columns):\n",
      " #   Column  Non-Null Count  Dtype \n",
      "---  ------  --------------  ----- \n",
      " 0   Marka   10000 non-null  object\n",
      " 1   Model   10000 non-null  object\n",
      " 2   Year    10000 non-null  object\n",
      " 3   Price   10000 non-null  int64 \n",
      "dtypes: int64(1), object(3)\n",
      "memory usage: 390.6+ KB\n"
     ]
    }
   ],
   "source": [
    "df.info()"
   ]
  },
  {
   "cell_type": "code",
   "execution_count": 4,
   "metadata": {
    "scrolled": false
   },
   "outputs": [
    {
     "data": {
      "text/plain": [
       "array(['Toyota', 'УАЗ', 'Kia', 'Zeekr', 'Land', 'Dodge', 'Audi', 'Mini',\n",
       "       'Porsche', 'Jeep', 'Maserati', 'BMW', 'Mercedes-Benz', 'Hyundai',\n",
       "       'Mitsubishi', 'Honda', 'ВАЗ', 'Nissan', 'Mazda', 'Subaru', 'Lexus',\n",
       "       'Suzuki', 'Chevrolet', 'Volkswagen', 'Ford', 'Cadillac', 'BYD',\n",
       "       'Opel', 'Infiniti', 'Volvo', 'Changan', 'Genesis', 'ГАЗ',\n",
       "       'SsangYong', 'Lotus', 'Voyah', 'Hongqi', 'Daewoo', 'Tesla',\n",
       "       'Jaguar', 'Skoda', 'EXEED', 'HiPhi', 'Avatr', 'IM', 'Li',\n",
       "       'Bentley', 'ЗАЗ', 'Foton', 'Renault', 'JAC', 'Haval', 'Geely',\n",
       "       'Peugeot', 'Hummer', 'Lincoln', 'Ravon', 'FAW', 'Mercedes-Maybach',\n",
       "       'Lamborghini', 'Lifan', 'Chery', 'Smart', 'Jin', 'Daihatsu',\n",
       "       'Citroen', 'Acura', 'Isuzu', 'Rolls-Royce', 'Neta', 'Wuling',\n",
       "       'Fiat', 'GMC', 'Jetour', 'GAC', 'Seres', 'Tank', 'Leap', 'OMODA',\n",
       "       'Ретро-автомобили', 'Denza', 'DongFeng', 'Москвич', 'Weltmeister',\n",
       "       'BAIC', 'Aston', 'Chrysler', 'MG', 'Great', 'Gonow', 'Pontiac'],\n",
       "      dtype=object)"
      ]
     },
     "execution_count": 4,
     "metadata": {},
     "output_type": "execute_result"
    }
   ],
   "source": [
    "df['Marka'].unique()"
   ]
  },
  {
   "cell_type": "code",
   "execution_count": 5,
   "metadata": {
    "scrolled": true
   },
   "outputs": [
    {
     "data": {
      "text/html": [
       "<div>\n",
       "<style scoped>\n",
       "    .dataframe tbody tr th:only-of-type {\n",
       "        vertical-align: middle;\n",
       "    }\n",
       "\n",
       "    .dataframe tbody tr th {\n",
       "        vertical-align: top;\n",
       "    }\n",
       "\n",
       "    .dataframe thead th {\n",
       "        text-align: right;\n",
       "    }\n",
       "</style>\n",
       "<table border=\"1\" class=\"dataframe\">\n",
       "  <thead>\n",
       "    <tr style=\"text-align: right;\">\n",
       "      <th></th>\n",
       "      <th>Marka</th>\n",
       "      <th>Model</th>\n",
       "      <th>Year</th>\n",
       "      <th>Price</th>\n",
       "    </tr>\n",
       "  </thead>\n",
       "  <tbody>\n",
       "    <tr>\n",
       "      <th>13</th>\n",
       "      <td>Land</td>\n",
       "      <td>['Rover Range Rover']</td>\n",
       "      <td>2021</td>\n",
       "      <td>51000000</td>\n",
       "    </tr>\n",
       "    <tr>\n",
       "      <th>14</th>\n",
       "      <td>Land</td>\n",
       "      <td>['Rover Range Rover Sport']</td>\n",
       "      <td>2007</td>\n",
       "      <td>9000000</td>\n",
       "    </tr>\n",
       "    <tr>\n",
       "      <th>72</th>\n",
       "      <td>Land</td>\n",
       "      <td>['Rover Range Rover']</td>\n",
       "      <td>2006</td>\n",
       "      <td>11000000</td>\n",
       "    </tr>\n",
       "    <tr>\n",
       "      <th>82</th>\n",
       "      <td>Land</td>\n",
       "      <td>['Rover Discovery Sport']</td>\n",
       "      <td>2019</td>\n",
       "      <td>20500000</td>\n",
       "    </tr>\n",
       "    <tr>\n",
       "      <th>195</th>\n",
       "      <td>Land</td>\n",
       "      <td>['Rover Range Rover']</td>\n",
       "      <td>2014</td>\n",
       "      <td>24500000</td>\n",
       "    </tr>\n",
       "    <tr>\n",
       "      <th>...</th>\n",
       "      <td>...</td>\n",
       "      <td>...</td>\n",
       "      <td>...</td>\n",
       "      <td>...</td>\n",
       "    </tr>\n",
       "    <tr>\n",
       "      <th>9888</th>\n",
       "      <td>Land</td>\n",
       "      <td>['Rover Range Rover']</td>\n",
       "      <td>2005</td>\n",
       "      <td>6000000</td>\n",
       "    </tr>\n",
       "    <tr>\n",
       "      <th>9938</th>\n",
       "      <td>Land</td>\n",
       "      <td>['Rover Range Rover']</td>\n",
       "      <td>2016</td>\n",
       "      <td>34800000</td>\n",
       "    </tr>\n",
       "    <tr>\n",
       "      <th>9944</th>\n",
       "      <td>Land</td>\n",
       "      <td>['Rover Range Rover']</td>\n",
       "      <td>2016</td>\n",
       "      <td>34800000</td>\n",
       "    </tr>\n",
       "    <tr>\n",
       "      <th>9973</th>\n",
       "      <td>Land</td>\n",
       "      <td>['Rover Range Rover']</td>\n",
       "      <td>2007</td>\n",
       "      <td>9350000</td>\n",
       "    </tr>\n",
       "    <tr>\n",
       "      <th>9996</th>\n",
       "      <td>Land</td>\n",
       "      <td>['Rover Range Rover']</td>\n",
       "      <td>2007</td>\n",
       "      <td>9350000</td>\n",
       "    </tr>\n",
       "  </tbody>\n",
       "</table>\n",
       "<p>145 rows × 4 columns</p>\n",
       "</div>"
      ],
      "text/plain": [
       "     Marka                        Model  Year     Price\n",
       "13    Land        ['Rover Range Rover']  2021  51000000\n",
       "14    Land  ['Rover Range Rover Sport']  2007   9000000\n",
       "72    Land        ['Rover Range Rover']  2006  11000000\n",
       "82    Land    ['Rover Discovery Sport']  2019  20500000\n",
       "195   Land        ['Rover Range Rover']  2014  24500000\n",
       "...    ...                          ...   ...       ...\n",
       "9888  Land        ['Rover Range Rover']  2005   6000000\n",
       "9938  Land        ['Rover Range Rover']  2016  34800000\n",
       "9944  Land        ['Rover Range Rover']  2016  34800000\n",
       "9973  Land        ['Rover Range Rover']  2007   9350000\n",
       "9996  Land        ['Rover Range Rover']  2007   9350000\n",
       "\n",
       "[145 rows x 4 columns]"
      ]
     },
     "execution_count": 5,
     "metadata": {},
     "output_type": "execute_result"
    }
   ],
   "source": [
    "df[df.Marka.str.contains('Land')]"
   ]
  },
  {
   "cell_type": "code",
   "execution_count": 6,
   "metadata": {
    "scrolled": true
   },
   "outputs": [
    {
     "name": "stdout",
     "output_type": "stream",
     "text": [
      "          Marka              Model  Year     Price\n",
      "13   Land Rover        Range Rover  2021  51000000\n",
      "14   Land Rover  Range Rover Sport  2007   9000000\n",
      "72   Land Rover        Range Rover  2006  11000000\n",
      "82   Land Rover    Discovery Sport  2019  20500000\n",
      "195  Land Rover        Range Rover  2014  24500000\n"
     ]
    }
   ],
   "source": [
    "df.Model = df.Model.apply(lambda x: x[2:-2])\n",
    "df.loc[df.Marka == 'Land', 'Model'] = df.loc[df.Marka == 'Land', 'Model'].apply(lambda x: x[6:])\n",
    "df.loc[df.Marka == 'Land', 'Marka'] = 'Land Rover'\n",
    "print(df[df.Marka.str.contains('Land')].head())"
   ]
  },
  {
   "cell_type": "code",
   "execution_count": 7,
   "metadata": {
    "scrolled": true
   },
   "outputs": [
    {
     "data": {
      "text/plain": [
       "array(['Vellfire', 'Alphard', 'Estima', '3303', 'K5', '001',\n",
       "       'Range Rover', 'Range Rover Sport', 'Challenger', 'Tacoma', 'A5',\n",
       "       'Hatch', 'Cayenne', 'Grand Cherokee', 'Quattroporte', 'X5 M',\n",
       "       'E 220', 'Elantra', 'Carina E', 'Highlander', 'Sonata',\n",
       "       'Land Cruiser Prado', '100', 'E 320', 'Montero Sport', 'C 180',\n",
       "       'Concerto', '(Lada) 2114 (хэтчбек)', 'Terrano', 'Patrol', 'X5',\n",
       "       'X6', 'Cronos', 'Outback', 'CLS 55 AMG', 'Cefiro', 'LX 570',\n",
       "       'S 500', 'Camry', 'SX4', 'Panamera', 'Teana', 'S 63 AMG',\n",
       "       'Land Cruiser', '(Lada) Priora 2170 (седан)', 'Cruze',\n",
       "       'Transporter', 'C 280', 'S 600', 'X', 'E 260', '525', 'Accent',\n",
       "       'Avensis', 'L200', 'GLE 63 AMG', 'Mustang', 'Starex', 'GS 350',\n",
       "       '540', 'Escalade', 'X-Trail', 'Discovery Sport', 'e:NS1', 'Han',\n",
       "       'Santa Fe', 'Legacy', 'ML 350', 'Sorento', 'Corolla', 'RX 350',\n",
       "       'M-NV', '3', 'X2', 'E 200', 'Vectra', '740', 'ID.4', 'Maxima',\n",
       "       'Outlander', 'QX80', 'Tundra', 'GS 300', 'Delica', '4Runner',\n",
       "       'E 350', 'S60', 'Golf', 'Eado', 'G80', 'ASX', 'CLS 350', 'Staria',\n",
       "       'Soul', '530', 'RAV 4', 'ES 250', 'ГАЗель', 'Hunter', 'Impreza',\n",
       "       'RX 300', 'NX 350', 'K8', 'Hilux Surf', 'Passat', 'Pajero', 'X3',\n",
       "       'X4', 'Windom', 'Rexton', 'Celica', 'Tucson', 'Grandeur', 'Omega',\n",
       "       'Bongo', 'Eletre', 'Free', '320', 'Solaris', 'LS 460', 'E 53 AMG',\n",
       "       'A8', 'Forester', '190', 'E-HS9', 'CX-5', '528', 'Transit',\n",
       "       'GX 470', 'Sportage', 'Macan', 'A6', 'Elysion', '318', 'S 350',\n",
       "       'Q7', 'XC90', 'Nexia', 'A4', 'Multivan', 'Cee’d', 'Spark', 'Hilux',\n",
       "       'ML 500', 'E 280', '750', 'ID.6', 'Creta', 'Palisade', 'Sprinter',\n",
       "       '428', 'X7', 'K7', 'Discovery', 'Avante', 'Rio', 'Polo', 'E 230',\n",
       "       'Touareg', 'Galant', 'Pajero IO', 'Tiida', 'Model Y',\n",
       "       'GLE Coupe 400', 'XJ', 'Jetta', 'Sienna', 'E 250', 'Phaeton',\n",
       "       'Caddy', 'S 400', '550', 'RX 330', 'ML 63 AMG', 'X6 M', 'K3',\n",
       "       'Superb', 'Baleno', 'CR-V', 'LX Luxury', 'TXL Flagship',\n",
       "       'VX Premium', 'LX', 'TXL Premium', 'Grand Vitara', 'Patriot',\n",
       "       'Qashqai', '009', '11', 'i7', 'LS7', 'ID.4 Crozz Prime', 'Z', 'L7',\n",
       "       'Dream', '001 WE 4WD', 'L9', 'EQC 400 4MATIC', '001 YOU',\n",
       "       'Model Y Performance', 'Qin', 'Seal', 'Flying Spur', 'G 63 AMG',\n",
       "       'A3', 'S 55', '(Lada) 2110 (седан)', 'NX 300', '626',\n",
       "       'Space Runner', 'Chance', 'FX37', 'Xterra', 'G35', 'Ipsum',\n",
       "       'GLE Coupe 53 AMG', 'Alpha', 'Cobalt', 'Avalon', 'Primera', '535',\n",
       "       '80', 'ES 350', '735', 'Rio X-Line', 'Model 3', 'Cerato', 'Chaser',\n",
       "       'Range Rover Velar', 'Zafira', '(Lada) 2106', 'Lancer', 'Nomad',\n",
       "       'LX 600', 'GV70', 'C 220', 'RVR', 'E 240', 'Chariot', 'Aristo',\n",
       "       '6', 'Optima', 'S 320', 'Taycan', 'Damas', 'Picanto', 'Mondeo',\n",
       "       'Duster', 'E 500', 'Rogue', 'Freelander', 'UNI-K', 'CLA 200',\n",
       "       '840', 'Celerio', 'Space Wagon', 'Juke', 'Town Ace', 'Yeti',\n",
       "       'Porter', 'S 450', 'RX 200t', 'G 320', 'CLS 500', 'C 230',\n",
       "       'RX 270', 'Gentra', 'Stinger', 'H-1', 'ML 400', 'Stream', 'E 450',\n",
       "       'Tiguan', 'Cayenne Coupe', 'Yuan', 'QX50', 'Chana SC6350С',\n",
       "       'Matiz', 'Jazz', '(Lada) Priora 2172 (хэтчбек)', 'Murano',\n",
       "       'Sharan', 'HiAce', '520', 'Picnic', '(Lada) Kalina 2192 (хэтчбек)',\n",
       "       'F-Series', 'UNI-T', 'S3', 'Mark II', 'Xpander', 'M35', 'K9',\n",
       "       'Malibu', 'Actyon', 'bZ4X', 'Accord', 'Caravelle', 'Amarok',\n",
       "       'Odyssey', 'S 550', 'XV', 'RX 500h', '(Lada) 2109 (хэтчбек)',\n",
       "       'LX 470', '(Lada) 2107', 'EQE', 'Almera', 'Civic', 'F7x',\n",
       "       'FJ Cruiser', 'Note', 'Defender', 'Monjaro', 'Xpander Cross',\n",
       "       'G 55 AMG', 'A 220', 'Carnival', 'NX 200', 'ES 330', 'GLS 580',\n",
       "       'Previa', 'GX 460', '(Lada) 2121 Нива', '301', 'H2', 'Q5',\n",
       "       '(Lada) Largus', 'Pilot', 'Focus', 'Morning',\n",
       "       '(Lada) Granta 2190 (седан)', '3162',\n",
       "       '(Lada) Priora 2171 (универсал)', 'XT6', '323', 'G 500',\n",
       "       '(Lada) Kalina 1118 (седан)', 'Ray', 'Jolion', 'Impreza XV',\n",
       "       'Astra', 'iX', 'Navigator', 'Veloster', 'i4', 'M5', 'Teramont',\n",
       "       'QX80 Luxe', 'QX60', 'QX55 Luxe', 'Pathfinder', 'JS6', 'Bayon',\n",
       "       'Crafter', 'Signum', 'Q8', 'F3', 'Ram', 'Crown', 'ES 300',\n",
       "       'Caldina', 'C-HR', 'e-tron', 'i3', 'EQC', 'ID.3', 'ID.6 Pure',\n",
       "       'e-Golf', 'Q5 e-tron', 'Model S', 'V 300', 'V 300 Avantgarde',\n",
       "       'Hilux Adventure', 'M235', 'Telluride', 'V 250 Avantgarde',\n",
       "       'X7 XDrive 40i', 'Model S Plaid', 'G 63 AMG 4MATIC',\n",
       "       'Highlander Luxe', 'S 580 4MATIC', 'EQS SUV', 'Model X',\n",
       "       'Taycan Turbo S', 'Altima', 'Compass', \"R'nessa\", 'ГАЗель NEXT',\n",
       "       'R4', '1024', 'Captiva', '650', 'Express', 'M4', 'Capella',\n",
       "       'GS 450h', 'E 63 AMG', 'Traverse', 'Fortuner', 'Kyron', 'S 580',\n",
       "       'Dolphin', 'QX56', 'Micra', 'G 350', 'Fiesta', 'Vito', 'Partner',\n",
       "       '328', 'One', 'Urus', 'Mark II Qualis', '(Lada) 21099 (седан)',\n",
       "       'Camaro', 'Samsung SM6', 'X60', '3151', 'GLS 400',\n",
       "       'Geometry A GE11', 'Samsung QM6', 'Passat CC', 'Prairie Joy',\n",
       "       'QX70', 'E 300', 'MB 100', 'Tiggo 8 Pro', '630', 'CLS 550',\n",
       "       '(Lada) XRAY', 'ForTwo', 'Terracan', '(Lada) Largus Cross',\n",
       "       'Bei Haise', '', 'Sirion', 'Passo', 'T6', 'Emgrand EC7',\n",
       "       'GLE Coupe 63 AMG', 'Elgrand', 'C4', 'Estima Emina',\n",
       "       '(Lada) 2115 (седан)', 'Aerio', 'i30', '5', 'Yaris Verso',\n",
       "       'Carina II', 'Sequoia', 'Venza', 'Nexia R3', 'RX 450h', '730',\n",
       "       'ES 200', 'Jimny', 'A 200', 'Golf Plus', 'XE', '325', 'A7',\n",
       "       'GL 500', 'Arrizo 5', 'Continental GT', 'XF', 'E 430', 'Presage',\n",
       "       'Bentayga', 'Seltos', 'Charger', 'Land Cruiser 70', 'GS 430',\n",
       "       'Coolray', 'Coolray Flagship', 'Element', 'Cayman', 'Chairman',\n",
       "       'Range Rover Evoque', 'C 200', 'Corolla Verso', 'V 250', 'CLK 230',\n",
       "       'Yaris', 'FX50', 'Tahoe', 'Arkana', 'Swift', 'E 55 AMG', 'Vento',\n",
       "       'Forte', 'CLS 53 AMG', 'Sunny', 'RDX', 'Wizard', 'Octavia',\n",
       "       'Corona Exiv', 'GLS 450', 'Explorer', '640', 'Space Gear',\n",
       "       'Phantom', 'X1', 'De Ville', 'GL 63 AMG', '24 (Волга)', 'Rapid',\n",
       "       'M240', 'E 420', 'Viano', 'FX35', 'Magentis', 'Starlet', 'JS4',\n",
       "       'Tracker', '220', 'QX4', 'Sentra', 'Rush', 'Буханка',\n",
       "       'GLE Coupe 43 AMG', 'Diamante', 'WRX STi', 'U', 'A6 allroad',\n",
       "       'CLA 45 AMG', 'Mirage', 'Harrier', 'LS 430', 'GLC Coupe 300',\n",
       "       'Camry Gracia', 'GLE Coupe 450 AMG', 'Fabia', 'EQS',\n",
       "       'Auchan A600 EV', 'Seagull', 'Matrix', 'GLS 63 AMG', 'Skyline',\n",
       "       'Sunshine', 'Grand Hiace', 'Equinox', 'GV80', 'V90',\n",
       "       '(Lada) XRAY Cross', 'Eclipse Cross', 'GLK 300', 'Getz', 'Luce',\n",
       "       'Tribute', 'Pegas', 'Prius', 'NX 250', 'R 63 AMG', 'Bestune T77',\n",
       "       'A 170', 'TrailBlazer', 'G37', 'S 300', '(Lada) Largus (фургон)',\n",
       "       'Aveo', '340', '330', '310221 (Волга)', 'ES 300h', 'A 160',\n",
       "       'Tribeca', 'Stepwgn', 'Almera Tino', 'E 400', 'Tino', 'Ducato',\n",
       "       'GLS 500', 'Pajero Sport', 'L300', 'IS 350', 'Carisma',\n",
       "       '(Lada) 2131 (5-ти дверный)', 'GS 250', 'Venue', '3110 (Волга)',\n",
       "       'Cresta', 'Bingo', 'R2', 'CX-7', 'Crown Majesta', 'Cadenza',\n",
       "       'ix35', 'Model Y Long Range', 'Raize', 'Lavita', 'ML 320',\n",
       "       'Cee’d Prestige', 'Cerato Premium', 'Mulsanne', 'Yukon',\n",
       "       '(Lada) Kalina 2194 (универсал)', 'Campo', 'X70', 'i8', 'HR-V',\n",
       "       'Mohave', 'Q70', 'Benben E-Star', 'Lancer Evolution', 'C 36 AMG',\n",
       "       'Song', '001 WE 2WD', 'ID.4 Pro', 'L8', 'iX3', 'ID.6 Pro', 'Tang',\n",
       "       'ID.6 Prime', 'ID.6 Pure+', 'Model 3 Standart Range',\n",
       "       'Model 3 Performance', 'ID.4 Crozz Pro', 'Aion S',\n",
       "       'ID.4 Crozz Pure+', 'RS 5', 'Q5 Sportback', 'A4 allroad',\n",
       "       'e-tron Sportback 55 Quattro', 'Q5 45 TFSI Quattro',\n",
       "       'A6 45 TFSI Quattro', 'e-tron 55 Quattro', 'e:NP1', 'M3', 'GX 550',\n",
       "       'Scirocco', 'D-Max', 'Countryman', 'Elantra Comfort', '911',\n",
       "       'Prelude', '206', 'XC60', 'Elantra Base Plus', 'K5 GT Line', '300',\n",
       "       '500', '300 Challenger', 'Azkarra Luxury 4WD',\n",
       "       'ASX Instyle 4WD Black Edition', 'M6', 'Motor C11', 'Bayon Style',\n",
       "       'Azkarra Luxury 2WD', 'Monjaro Flagship', 'Lacetti',\n",
       "       'Fusion (North America)', 'Cee’d Luxe', 'Kangoo', 'Camry Prestige',\n",
       "       'Corolla Cross', 'Camry Comfort', 'Sonata Style', 'Terios',\n",
       "       'Han Top', 'Tiggo 8 Pro Max', 'Lyriq', 'Bayon High-Tech', 'Kaptur',\n",
       "       'C5 Premium 1.5T', 'C5 Comfort 1.6T', 'C5 Premium 1.6T',\n",
       "       'C5 Comfort 1.5T', 'Monjaro Premium', 'Navara', 'K9 Premium',\n",
       "       'Beetle', 'Familia', 'A 180', 'CT 200h', 'RZ 450e', 'A 45 AMG',\n",
       "       'SLK 200', 'UNI-V Tech', '001 ME', 'Американские', 'S80',\n",
       "       'Azkarra Flagship', 'Tugella Flagship',\n",
       "       'Escalade Sport Platinum ESV', 'X70 Plus', 'IS 300', 'Menlo',\n",
       "       '(Lada) Granta 2191 (лифтбек) Classic Optima', 'Cerato Prestige',\n",
       "       'Escalade Luxury', '2410 (Волга)', 'EV6', 'EQA', 'Tugella Luxury',\n",
       "       '523', 'Ertiga', '316', 'Cerato GT Line', 'VX Flagship',\n",
       "       'L200 Instyle', 'J7', 'Azkarra Comfort', 'CS35', 'Millenia',\n",
       "       'XT6 Sport Platinum', 'G70', 'G 300', 'CS75', 'Picanto GT Line',\n",
       "       'XT4', 'Trooper', 'Eclipse Cross Instyle', 'Eclipse Cross Intense',\n",
       "       'Teramont Status', 'Passat Business 2.0 TSI', 'LX 450', 'D9',\n",
       "       '335', 'Cee’d Comfort', 'Azkarra Flagship+', 'Solara',\n",
       "       'Elantra Elegance', 'Escalade Premium Luxury Platinum ESV',\n",
       "       'XT5 Sport', 'Farizon FX', 'Verso', 'S 380',\n",
       "       '(Lada) Vesta SW Cross', 'EV6 Earth', 'Mark X Zio', 'Fengon E5',\n",
       "       'Sonata Active Plus', 'Sprinter Carib',\n",
       "       '(Lada) Granta 2191 (лифтбек)', 'RS 6', 'GLC 300', 'N7',\n",
       "       'Escalade Sport', '(Lada) Vesta', 'Gaia', 'Sonata Travel', 'Oley',\n",
       "       'UX 250h', 'K5 Comfort', 'Granada', '401', '21 (Волга)',\n",
       "       'Carina ED', 'Tivoli', 'Bayon Prime', 'Niva', 'Grandis',\n",
       "       '31105 (Волга)', 'AMG GT 43', 'Voxy', 'Bora',\n",
       "       'Escalade Sport Platinum', 'Elantra Style', 'AMG GT 53',\n",
       "       'Almera Classic', 'Vitara', 'Raum', 'MPV', 'C 240',\n",
       "       'Duster Life 1.6 MT (4WD)',\n",
       "       '(Lada) Granta 2190 (седан) Classic Optima', 'Kaptur Style', 'SQ8',\n",
       "       'Arkana Drive', 'Duster Life TCE (4WD)', 'EX5', 'QX55',\n",
       "       'QX50 Luxe', 'Tiggo 4 Pro', 'S8', 'Tiggo 7 Pro', 'Wrangler',\n",
       "       'RX 400h', 'Tang Top', 'L200 DC Invite+', 'ASX Invite 2WD', 'M760',\n",
       "       'Corsa', 'Durango', 'XCeed Luxe', 'IS 250', 'B-series',\n",
       "       'Estima Lucida', 'Sandero Stepway', 'S2000', 'Zafira Life',\n",
       "       'UNI-V', 'HiAce Regius', 'S-Type', 'SL 63 AMG', 'Beijing X7',\n",
       "       'Continental Flying Spur', '440', '728', 'Atlas', 'Tunland',\n",
       "       'ID.4 Pure+', 'Omoda 5', 'Logan', 'Onix Premier 2',\n",
       "       'Tucson Travel 2.0 AT 4WD', 'Cobalt Optimum AT', 'K5 Prestige',\n",
       "       'GLE 300', 'CS55 Plus', 'Terrano II', 'GLE 53 AMG',\n",
       "       'GLC Coupe 43 AMG', 'Sonata Active', 'F-Pace',\n",
       "       'XT6 Premium Luxury', 'G 400', 'Largo', 'T80', 'F7', 'NX 200t',\n",
       "       'Silver Cloud', 'Legacy Lancaster', 'Mark X', 'Wingroad',\n",
       "       'C 43 AMG', 'V 220', 'S 680 4MATIC', 'Святогор', 'Ranger', '407',\n",
       "       'S30', 'Martin DB9', 'View', 'i40', '(Lada) 2102',\n",
       "       '(Lada) 2108 (хэтчбек)', 'Versa', 'Orthia', 'Dargo', 'Punto',\n",
       "       'Spectra', 'Taurus', 'Vista Ardeo', 'Fit', 'Sephia',\n",
       "       '31029 (Волга)', 'Pajero Junior', 'Nadia', 'Caravan', 'S 280',\n",
       "       'Prairie', 'Escort', 'Pony', 'Vitz', 'S 560', 'H6',\n",
       "       'Sprinter Marino', '850', 'Impreza WRX STi', '745', 'Rafaga',\n",
       "       'Cherokee', 'Соболь', 'Tiburon', 'J5', '469', 'X-Type',\n",
       "       '(Lada) 2103', 'Saber', 'Taos', 'Veloz', 'Premacy', 'Trax',\n",
       "       'Galloper', '(Lada) 2101', 'F-Type', 'IS 200', 'S 430', 'Pulsar',\n",
       "       'Town Car', 'NP300', 'Tiggo 5', 'BRZ', 'Sedona', 'e-Bora',\n",
       "       'CLA 250', 'Safari', 'Vaneo', 'Bluebird', 'Scepter', 'PT Cruiser',\n",
       "       'DZire', 'GL 550', '308', 'Granvia', 'Insignia', '(Lada) Vesta SW',\n",
       "       'Samsung SM3', 'B 180', '69', 'Atos', 'Escalade ESV', 'Xedos 9',\n",
       "       'Coupe', '645', 'Noah', 'Solano', 'Stealth', '350',\n",
       "       'Wall Hover M4', 'C 250', 'Demio', 'Land Cruiser Premium',\n",
       "       'Corolla Levin', 'GS 200t', 'Gladiator', 'H3', 'Meriva', 'Q3',\n",
       "       'Avella', 'XT5 Premium Luxury', 'GLC 250', 'Vivaro', 'Frontera',\n",
       "       'LT', 'Auris', 'S5', 'SLK 230', 'Sorento Luxe', 'ML 270',\n",
       "       'Tugella', 'Victor', 'C 300', 'CLS 400', '6390', 'Magnum',\n",
       "       'Teramont Respect', 'GLE 400', 'C 320', 'SL 55 AMG', 'Epica',\n",
       "       'Vibe', 'Taos Respect MT'], dtype=object)"
      ]
     },
     "execution_count": 7,
     "metadata": {},
     "output_type": "execute_result"
    }
   ],
   "source": [
    "df.Model.unique()"
   ]
  },
  {
   "cell_type": "code",
   "execution_count": 8,
   "metadata": {
    "scrolled": true
   },
   "outputs": [
    {
     "data": {
      "text/plain": [
       "array(['ВАЗ', 'ГАЗ', 'Ford', 'Renault'], dtype=object)"
      ]
     },
     "execution_count": 8,
     "metadata": {},
     "output_type": "execute_result"
    }
   ],
   "source": [
    "df[df.Model.str.contains('\\(')].Marka.unique()"
   ]
  },
  {
   "cell_type": "code",
   "execution_count": 9,
   "metadata": {},
   "outputs": [],
   "source": [
    "df.drop(df[df.Marka.str.contains('Ретро')].index, inplace=True)"
   ]
  },
  {
   "cell_type": "code",
   "execution_count": 11,
   "metadata": {},
   "outputs": [],
   "source": [
    "df.loc[df.Model.str.contains(r'\\('), 'Model'] = \\\n",
    "    df.loc[df.Model.str.contains(r'\\('), 'Model'].replace(r\"\\s?\\(.*?\\)\\s?\", \"\", regex=True)"
   ]
  },
  {
   "cell_type": "code",
   "execution_count": 14,
   "metadata": {},
   "outputs": [],
   "source": [
    "def transl(text):\n",
    "    if re.search(r'[А-Яа-я]', text):\n",
    "        return tr.translit(text, reversed=True)\n",
    "    return text"
   ]
  },
  {
   "cell_type": "code",
   "execution_count": 15,
   "metadata": {},
   "outputs": [],
   "source": [
    "df.Marka, df.Model = df.Marka.apply(transl), df.Model.apply(transl)"
   ]
  },
  {
   "cell_type": "code",
   "execution_count": 17,
   "metadata": {
    "scrolled": false
   },
   "outputs": [
    {
     "data": {
      "text/plain": [
       "array([], dtype=object)"
      ]
     },
     "execution_count": 17,
     "metadata": {},
     "output_type": "execute_result"
    }
   ],
   "source": [
    "df[df.Marka.str.contains(r'[^A-Za-z-\\s]')].Marka.unique()"
   ]
  },
  {
   "cell_type": "code",
   "execution_count": 19,
   "metadata": {},
   "outputs": [
    {
     "data": {
      "text/plain": [
       "array(['2009', '2006', '2012', '2010', '1987', '2013', '2021', '2023',\n",
       "       '2007', '2019', '2005', '2002', '2004', '2014', '1992', '2003',\n",
       "       '1991', '2000', '2008', '1993', '2016', '2022', '2011', '1995',\n",
       "       '1990', '1994', '1996', '2017', 'На з', '2001', '2020', '2018',\n",
       "       '2015', '1997', '1999', '1998', '1976', '1986', '1989', '1984',\n",
       "       '1988', '1983', '1977', '1973', '1981', '1985', '1982', '1972',\n",
       "       '1954', '1963', '1959', '1956', '1979', '1957', '1970', '1969'],\n",
       "      dtype=object)"
      ]
     },
     "execution_count": 19,
     "metadata": {},
     "output_type": "execute_result"
    }
   ],
   "source": [
    "df.Year.unique()"
   ]
  },
  {
   "cell_type": "code",
   "execution_count": 34,
   "metadata": {},
   "outputs": [],
   "source": [
    "df.drop(df[df.Year == 'На з'].index, inplace=True)"
   ]
  },
  {
   "cell_type": "markdown",
   "metadata": {},
   "source": [
    "# Data Normalization and to_csv"
   ]
  },
  {
   "cell_type": "code",
   "execution_count": 40,
   "metadata": {},
   "outputs": [],
   "source": [
    "brands = pd.DataFrame({'Brand Name': df['Marka'].unique()})\n",
    "brands['Brand ID'] = range(len(brands))\n",
    "\n",
    "models = pd.DataFrame({'Model Name': df['Model'].unique()})\n",
    "models['Model ID'] = range(len(models))\n",
    "\n",
    "car_full = df.copy()\n",
    "car_full['Brand ID'] = car_full['Marka'].map(brands.set_index('Brand Name')['Brand ID'])\n",
    "car_full['Model ID'] = car_full['Model'].map(models.set_index('Model Name')['Model ID'])"
   ]
  },
  {
   "cell_type": "code",
   "execution_count": 44,
   "metadata": {},
   "outputs": [
    {
     "data": {
      "text/html": [
       "<div>\n",
       "<style scoped>\n",
       "    .dataframe tbody tr th:only-of-type {\n",
       "        vertical-align: middle;\n",
       "    }\n",
       "\n",
       "    .dataframe tbody tr th {\n",
       "        vertical-align: top;\n",
       "    }\n",
       "\n",
       "    .dataframe thead th {\n",
       "        text-align: right;\n",
       "    }\n",
       "</style>\n",
       "<table border=\"1\" class=\"dataframe\">\n",
       "  <thead>\n",
       "    <tr style=\"text-align: right;\">\n",
       "      <th></th>\n",
       "      <th>Marka</th>\n",
       "      <th>Model</th>\n",
       "      <th>Year</th>\n",
       "      <th>Price</th>\n",
       "      <th>Brand ID</th>\n",
       "      <th>Model ID</th>\n",
       "    </tr>\n",
       "  </thead>\n",
       "  <tbody>\n",
       "    <tr>\n",
       "      <th>0</th>\n",
       "      <td>Toyota</td>\n",
       "      <td>Vellfire</td>\n",
       "      <td>2009</td>\n",
       "      <td>7700000</td>\n",
       "      <td>0</td>\n",
       "      <td>0</td>\n",
       "    </tr>\n",
       "    <tr>\n",
       "      <th>1</th>\n",
       "      <td>Toyota</td>\n",
       "      <td>Alphard</td>\n",
       "      <td>2006</td>\n",
       "      <td>6500000</td>\n",
       "      <td>0</td>\n",
       "      <td>1</td>\n",
       "    </tr>\n",
       "    <tr>\n",
       "      <th>2</th>\n",
       "      <td>Toyota</td>\n",
       "      <td>Vellfire</td>\n",
       "      <td>2009</td>\n",
       "      <td>7700000</td>\n",
       "      <td>0</td>\n",
       "      <td>0</td>\n",
       "    </tr>\n",
       "    <tr>\n",
       "      <th>3</th>\n",
       "      <td>Toyota</td>\n",
       "      <td>Estima</td>\n",
       "      <td>2012</td>\n",
       "      <td>6300000</td>\n",
       "      <td>0</td>\n",
       "      <td>2</td>\n",
       "    </tr>\n",
       "    <tr>\n",
       "      <th>4</th>\n",
       "      <td>Toyota</td>\n",
       "      <td>Estima</td>\n",
       "      <td>2012</td>\n",
       "      <td>6500000</td>\n",
       "      <td>0</td>\n",
       "      <td>2</td>\n",
       "    </tr>\n",
       "    <tr>\n",
       "      <th>...</th>\n",
       "      <td>...</td>\n",
       "      <td>...</td>\n",
       "      <td>...</td>\n",
       "      <td>...</td>\n",
       "      <td>...</td>\n",
       "      <td>...</td>\n",
       "    </tr>\n",
       "    <tr>\n",
       "      <th>9995</th>\n",
       "      <td>Toyota</td>\n",
       "      <td>HiAce</td>\n",
       "      <td>1995</td>\n",
       "      <td>3800000</td>\n",
       "      <td>0</td>\n",
       "      <td>280</td>\n",
       "    </tr>\n",
       "    <tr>\n",
       "      <th>9996</th>\n",
       "      <td>Land Rover</td>\n",
       "      <td>Range Rover</td>\n",
       "      <td>2007</td>\n",
       "      <td>9350000</td>\n",
       "      <td>4</td>\n",
       "      <td>6</td>\n",
       "    </tr>\n",
       "    <tr>\n",
       "      <th>9997</th>\n",
       "      <td>BMW</td>\n",
       "      <td>X6 M</td>\n",
       "      <td>2021</td>\n",
       "      <td>100000000</td>\n",
       "      <td>11</td>\n",
       "      <td>170</td>\n",
       "    </tr>\n",
       "    <tr>\n",
       "      <th>9998</th>\n",
       "      <td>Mercedes-Benz</td>\n",
       "      <td>S 350</td>\n",
       "      <td>2006</td>\n",
       "      <td>6200000</td>\n",
       "      <td>12</td>\n",
       "      <td>130</td>\n",
       "    </tr>\n",
       "    <tr>\n",
       "      <th>9999</th>\n",
       "      <td>Mercedes-Benz</td>\n",
       "      <td>E 280</td>\n",
       "      <td>1996</td>\n",
       "      <td>2600000</td>\n",
       "      <td>12</td>\n",
       "      <td>140</td>\n",
       "    </tr>\n",
       "  </tbody>\n",
       "</table>\n",
       "<p>9581 rows × 6 columns</p>\n",
       "</div>"
      ],
      "text/plain": [
       "              Marka        Model  Year      Price  Brand ID  Model ID\n",
       "0            Toyota     Vellfire  2009    7700000         0         0\n",
       "1            Toyota      Alphard  2006    6500000         0         1\n",
       "2            Toyota     Vellfire  2009    7700000         0         0\n",
       "3            Toyota       Estima  2012    6300000         0         2\n",
       "4            Toyota       Estima  2012    6500000         0         2\n",
       "...             ...          ...   ...        ...       ...       ...\n",
       "9995         Toyota        HiAce  1995    3800000         0       280\n",
       "9996     Land Rover  Range Rover  2007    9350000         4         6\n",
       "9997            BMW         X6 M  2021  100000000        11       170\n",
       "9998  Mercedes-Benz        S 350  2006    6200000        12       130\n",
       "9999  Mercedes-Benz        E 280  1996    2600000        12       140\n",
       "\n",
       "[9581 rows x 6 columns]"
      ]
     },
     "execution_count": 44,
     "metadata": {},
     "output_type": "execute_result"
    }
   ],
   "source": [
    "car_full"
   ]
  },
  {
   "cell_type": "code",
   "execution_count": 45,
   "metadata": {},
   "outputs": [],
   "source": [
    "brands.to_csv('brands.csv', index = False)\n",
    "models.to_csv('models.csv', index = False)\n",
    "car_full.to_csv('car_full.csv', index = False)"
   ]
  },
  {
   "cell_type": "code",
   "execution_count": 47,
   "metadata": {
    "scrolled": true
   },
   "outputs": [
    {
     "data": {
      "text/html": [
       "<div>\n",
       "<style scoped>\n",
       "    .dataframe tbody tr th:only-of-type {\n",
       "        vertical-align: middle;\n",
       "    }\n",
       "\n",
       "    .dataframe tbody tr th {\n",
       "        vertical-align: top;\n",
       "    }\n",
       "\n",
       "    .dataframe thead th {\n",
       "        text-align: right;\n",
       "    }\n",
       "</style>\n",
       "<table border=\"1\" class=\"dataframe\">\n",
       "  <thead>\n",
       "    <tr style=\"text-align: right;\">\n",
       "      <th></th>\n",
       "      <th>Marka</th>\n",
       "      <th>Model</th>\n",
       "      <th>Year</th>\n",
       "      <th>Price</th>\n",
       "      <th>Brand ID</th>\n",
       "      <th>Model ID</th>\n",
       "    </tr>\n",
       "  </thead>\n",
       "  <tbody>\n",
       "    <tr>\n",
       "      <th>2594</th>\n",
       "      <td>Kia</td>\n",
       "      <td>K7</td>\n",
       "      <td>2021</td>\n",
       "      <td>15850000</td>\n",
       "      <td>2</td>\n",
       "      <td>148</td>\n",
       "    </tr>\n",
       "    <tr>\n",
       "      <th>2595</th>\n",
       "      <td>Nissan</td>\n",
       "      <td>Pathfinder</td>\n",
       "      <td>2012</td>\n",
       "      <td>10000000</td>\n",
       "      <td>17</td>\n",
       "      <td>346</td>\n",
       "    </tr>\n",
       "    <tr>\n",
       "      <th>2596</th>\n",
       "      <td>Toyota</td>\n",
       "      <td>Highlander</td>\n",
       "      <td>2021</td>\n",
       "      <td>28200000</td>\n",
       "      <td>0</td>\n",
       "      <td>19</td>\n",
       "    </tr>\n",
       "    <tr>\n",
       "      <th>2597</th>\n",
       "      <td>Toyota</td>\n",
       "      <td>Yaris</td>\n",
       "      <td>2010</td>\n",
       "      <td>5200000</td>\n",
       "      <td>0</td>\n",
       "      <td>477</td>\n",
       "    </tr>\n",
       "    <tr>\n",
       "      <th>2598</th>\n",
       "      <td>Zeekr</td>\n",
       "      <td>X</td>\n",
       "      <td>2023</td>\n",
       "      <td>17150000</td>\n",
       "      <td>3</td>\n",
       "      <td>74</td>\n",
       "    </tr>\n",
       "  </tbody>\n",
       "</table>\n",
       "</div>"
      ],
      "text/plain": [
       "       Marka       Model  Year     Price  Brand ID  Model ID\n",
       "2594     Kia          K7  2021  15850000         2       148\n",
       "2595  Nissan  Pathfinder  2012  10000000        17       346\n",
       "2596  Toyota  Highlander  2021  28200000         0        19\n",
       "2597  Toyota       Yaris  2010   5200000         0       477\n",
       "2598   Zeekr           X  2023  17150000         3        74"
      ]
     },
     "execution_count": 47,
     "metadata": {},
     "output_type": "execute_result"
    }
   ],
   "source": [
    "car_full[2520:2525]"
   ]
  }
 ],
 "metadata": {
  "kernelspec": {
   "display_name": "Python 3",
   "language": "python",
   "name": "python3"
  },
  "language_info": {
   "codemirror_mode": {
    "name": "ipython",
    "version": 3
   },
   "file_extension": ".py",
   "mimetype": "text/x-python",
   "name": "python",
   "nbconvert_exporter": "python",
   "pygments_lexer": "ipython3",
   "version": "3.8.5"
  }
 },
 "nbformat": 4,
 "nbformat_minor": 4
}
